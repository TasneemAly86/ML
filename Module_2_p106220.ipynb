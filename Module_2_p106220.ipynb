{
  "nbformat": 4,
  "nbformat_minor": 0,
  "metadata": {
    "colab": {
      "provenance": [],
      "include_colab_link": true
    },
    "kernelspec": {
      "name": "python3",
      "display_name": "Python 3"
    },
    "language_info": {
      "name": "python"
    }
  },
  "cells": [
    {
      "cell_type": "markdown",
      "metadata": {
        "id": "view-in-github",
        "colab_type": "text"
      },
      "source": [
        "<a href=\"https://colab.research.google.com/github/TasneemAly86/ML/blob/main/Module_2_p106220.ipynb\" target=\"_parent\"><img src=\"https://colab.research.google.com/assets/colab-badge.svg\" alt=\"Open In Colab\"/></a>"
      ]
    },
    {
      "cell_type": "markdown",
      "metadata": {
        "id": "NAlp9izAzpRT"
      },
      "source": [
        "# **Data Importing**"
      ]
    },
    {
      "cell_type": "markdown",
      "metadata": {
        "id": "58x68JYmzxJh"
      },
      "source": [
        "**Importing flat files**"
      ]
    },
    {
      "cell_type": "code",
      "metadata": {
        "id": "XSZ6Z_WQcaA3"
      },
      "source": [
        "file =open('/content/drive/MyDrive/Colab Notebooks/lab TC 6244/Lab 1 Module 1 to 4/data/huck_fin.txt','r')"
      ],
      "execution_count": null,
      "outputs": []
    },
    {
      "cell_type": "code",
      "metadata": {
        "colab": {
          "base_uri": "https://localhost:8080/"
        },
        "id": "imjMLlfpj7lJ",
        "outputId": "493f08e0-3051-44e4-af21-eeafc8eec3b2"
      },
      "source": [
        "text=file.read()\n",
        "\n",
        "print(text)"
      ],
      "execution_count": null,
      "outputs": [
        {
          "output_type": "stream",
          "text": [
            "YOU don't know about me without you have read a book by the name of The\n",
            "Adventures of Tom Sawyer; but that ain't no matter.  That book was made\n",
            "by Mr. Mark Twain, and he told the truth, mainly.  There was things which\n",
            "he stretched, but mainly he told the truth.  That is nothing.  I never\n",
            "seen anybody but lied one time or another, without it was Aunt Polly, or\n",
            "the widow, or maybe Mary.  Aunt Polly--Tom's Aunt Polly, she is--and\n",
            "Mary, and the Widow Douglas is all told about in that book, which is\n",
            "mostly a true book, with some stretchers, as I said before.\n",
            "\n",
            "Now the way that the book winds up is this:  Tom and me found the money\n",
            "that the robbers hid in the cave, and it made us rich.  We got six\n",
            "thousand dollars apiece--all gold.  It was an awful sight of money when\n",
            "it was piled up.  Well, Judge Thatcher he took it and put it out at\n",
            "interest, and it fetched us a dollar a day apiece all the year round\n",
            "--more than a body could tell what to do with.  The Widow Douglas she took\n",
            "me for her son, and allowed she would sivilize me; but it was rough\n",
            "living in the house all the time, considering how dismal regular and\n",
            "decent the widow was in all her ways; and so when I couldn't stand it no\n",
            "longer I lit out.  I got into my old rags and my sugar-hogshead again,\n",
            "and was free and satisfied.  But Tom Sawyer he hunted me up and said he\n",
            "was going to start a band of robbers, and I might join if I would go back\n",
            "to the widow and be respectable.  So I went back.\n",
            "\n",
            "The widow she cried over me, and called me a poor lost lamb, and she\n",
            "called me a lot of other names, too, but she never meant no harm by it.\n",
            "She put me in them new clothes again, and I couldn't do nothing but sweat\n",
            "and sweat, and feel all cramped up.  Well, then, the old thing commenced\n",
            "again.  The widow rung a bell for supper, and you had to come to time.\n",
            "When you got to the table you couldn't go right to eating, but you had to\n",
            "wait for the widow to tuck down her head and grumble a little over the\n",
            "victuals, though there warn't really anything the matter with them,--that\n",
            "is, nothing only everything was cooked by itself.  In a barrel of odds\n",
            "and ends it is different; things get mixed up, and the juice kind of\n",
            "swaps around, and the things go better.\n",
            "\n",
            "After supper she got out her book and learned me about Moses and the\n",
            "Bulrushers, and I was in a sweat to find out all about him; but by and by\n",
            "she let it out that Moses had been dead a considerable long time; so then\n",
            "I didn't care no more about him, because I don't take no stock in dead\n",
            "people.\n",
            "\n",
            "Pretty soon I wanted to smoke, and asked the widow to let me.  But she\n",
            "wouldn't.  She said it was a mean practice and wasn't clean, and I must\n",
            "try to not do it any more.  That is just the way with some people.  They\n",
            "get down on a thing when they don't know nothing about it.  Here she was\n",
            "a-bothering about Moses, which was no kin to her, and no use to anybody,\n",
            "being gone, you see, yet finding a power of fault with me for doing a\n",
            "thing that had some good in it.  And she took snuff, too; of course that\n",
            "was all right, because she done it herself.\n",
            "\n"
          ],
          "name": "stdout"
        }
      ]
    },
    {
      "cell_type": "code",
      "metadata": {
        "colab": {
          "base_uri": "https://localhost:8080/"
        },
        "id": "J8eBETB93KML",
        "outputId": "a57c9531-d482-4608-e47b-1b11f081e135"
      },
      "source": [
        " type(text)"
      ],
      "execution_count": null,
      "outputs": [
        {
          "output_type": "execute_result",
          "data": {
            "text/plain": [
              "str"
            ]
          },
          "metadata": {
            "tags": []
          },
          "execution_count": 4
        }
      ]
    },
    {
      "cell_type": "code",
      "metadata": {
        "colab": {
          "base_uri": "https://localhost:8080/"
        },
        "id": "S7B7NXf53tc_",
        "outputId": "88e1bfc1-5d68-469a-856a-4a9524a30212"
      },
      "source": [
        "file= open('/content/drive/MyDrive/Colab Notebooks/lab TC 6244/Lab 1 Module 1 to 4/data/data.csv','r')\n",
        "print(file.readline())\n",
        "print(file.readline())\n"
      ],
      "execution_count": null,
      "outputs": [
        {
          "output_type": "stream",
          "text": [
            "age,sex,bmi,children,smoker,region,charges\n",
            "\n",
            "19,female,27.9,0,yes,southwest,16884.924\n",
            "\n"
          ],
          "name": "stdout"
        }
      ]
    },
    {
      "cell_type": "code",
      "metadata": {
        "colab": {
          "base_uri": "https://localhost:8080/"
        },
        "id": "33GvpPbC6N9e",
        "outputId": "ecfbc4b8-70eb-455b-e959-d1ce01cea924"
      },
      "source": [
        "with open('/content/drive/MyDrive/Colab Notebooks/lab TC 6244/Lab 1 Module 1 to 4/data/huck_fin.txt','r')as f:\n",
        "  for line in f:\n",
        "    print(line)"
      ],
      "execution_count": null,
      "outputs": [
        {
          "output_type": "stream",
          "text": [
            "YOU don't know about me without you have read a book by the name of The\n",
            "\n",
            "Adventures of Tom Sawyer; but that ain't no matter.  That book was made\n",
            "\n",
            "by Mr. Mark Twain, and he told the truth, mainly.  There was things which\n",
            "\n",
            "he stretched, but mainly he told the truth.  That is nothing.  I never\n",
            "\n",
            "seen anybody but lied one time or another, without it was Aunt Polly, or\n",
            "\n",
            "the widow, or maybe Mary.  Aunt Polly--Tom's Aunt Polly, she is--and\n",
            "\n",
            "Mary, and the Widow Douglas is all told about in that book, which is\n",
            "\n",
            "mostly a true book, with some stretchers, as I said before.\n",
            "\n",
            "\n",
            "\n",
            "Now the way that the book winds up is this:  Tom and me found the money\n",
            "\n",
            "that the robbers hid in the cave, and it made us rich.  We got six\n",
            "\n",
            "thousand dollars apiece--all gold.  It was an awful sight of money when\n",
            "\n",
            "it was piled up.  Well, Judge Thatcher he took it and put it out at\n",
            "\n",
            "interest, and it fetched us a dollar a day apiece all the year round\n",
            "\n",
            "--more than a body could tell what to do with.  The Widow Douglas she took\n",
            "\n",
            "me for her son, and allowed she would sivilize me; but it was rough\n",
            "\n",
            "living in the house all the time, considering how dismal regular and\n",
            "\n",
            "decent the widow was in all her ways; and so when I couldn't stand it no\n",
            "\n",
            "longer I lit out.  I got into my old rags and my sugar-hogshead again,\n",
            "\n",
            "and was free and satisfied.  But Tom Sawyer he hunted me up and said he\n",
            "\n",
            "was going to start a band of robbers, and I might join if I would go back\n",
            "\n",
            "to the widow and be respectable.  So I went back.\n",
            "\n",
            "\n",
            "\n",
            "The widow she cried over me, and called me a poor lost lamb, and she\n",
            "\n",
            "called me a lot of other names, too, but she never meant no harm by it.\n",
            "\n",
            "She put me in them new clothes again, and I couldn't do nothing but sweat\n",
            "\n",
            "and sweat, and feel all cramped up.  Well, then, the old thing commenced\n",
            "\n",
            "again.  The widow rung a bell for supper, and you had to come to time.\n",
            "\n",
            "When you got to the table you couldn't go right to eating, but you had to\n",
            "\n",
            "wait for the widow to tuck down her head and grumble a little over the\n",
            "\n",
            "victuals, though there warn't really anything the matter with them,--that\n",
            "\n",
            "is, nothing only everything was cooked by itself.  In a barrel of odds\n",
            "\n",
            "and ends it is different; things get mixed up, and the juice kind of\n",
            "\n",
            "swaps around, and the things go better.\n",
            "\n",
            "\n",
            "\n",
            "After supper she got out her book and learned me about Moses and the\n",
            "\n",
            "Bulrushers, and I was in a sweat to find out all about him; but by and by\n",
            "\n",
            "she let it out that Moses had been dead a considerable long time; so then\n",
            "\n",
            "I didn't care no more about him, because I don't take no stock in dead\n",
            "\n",
            "people.\n",
            "\n",
            "\n",
            "\n",
            "Pretty soon I wanted to smoke, and asked the widow to let me.  But she\n",
            "\n",
            "wouldn't.  She said it was a mean practice and wasn't clean, and I must\n",
            "\n",
            "try to not do it any more.  That is just the way with some people.  They\n",
            "\n",
            "get down on a thing when they don't know nothing about it.  Here she was\n",
            "\n",
            "a-bothering about Moses, which was no kin to her, and no use to anybody,\n",
            "\n",
            "being gone, you see, yet finding a power of fault with me for doing a\n",
            "\n",
            "thing that had some good in it.  And she took snuff, too; of course that\n",
            "\n",
            "was all right, because she done it herself.\n",
            "\n"
          ],
          "name": "stdout"
        }
      ]
    },
    {
      "cell_type": "markdown",
      "metadata": {
        "id": "INwpjljYz80B"
      },
      "source": [
        "**Importing Excel Spreedsheets**"
      ]
    },
    {
      "cell_type": "code",
      "metadata": {
        "colab": {
          "base_uri": "https://localhost:8080/"
        },
        "id": "XvyUDdXH65Ak",
        "outputId": "754d500c-89f1-47fb-c229-59cedc6ac670"
      },
      "source": [
        "import pandas as pd\n",
        "data=pd.ExcelFile('/content/drive/MyDrive/Colab Notebooks/lab TC 6244/Lab 1 Module 1 to 4/data/iris.xlsx')\n",
        "print(data.sheet_names)"
      ],
      "execution_count": null,
      "outputs": [
        {
          "output_type": "stream",
          "text": [
            "['iris', 'species']\n"
          ],
          "name": "stdout"
        }
      ]
    },
    {
      "cell_type": "code",
      "metadata": {
        "colab": {
          "base_uri": "https://localhost:8080/",
          "height": 202
        },
        "id": "UO0kNtWg7Wf_",
        "outputId": "0efc0def-4819-4cb4-ba16-9102f9ef412c"
      },
      "source": [
        "df = data.parse('iris')\n",
        "df.head()"
      ],
      "execution_count": null,
      "outputs": [
        {
          "output_type": "execute_result",
          "data": {
            "text/html": [
              "<div>\n",
              "<style scoped>\n",
              "    .dataframe tbody tr th:only-of-type {\n",
              "        vertical-align: middle;\n",
              "    }\n",
              "\n",
              "    .dataframe tbody tr th {\n",
              "        vertical-align: top;\n",
              "    }\n",
              "\n",
              "    .dataframe thead th {\n",
              "        text-align: right;\n",
              "    }\n",
              "</style>\n",
              "<table border=\"1\" class=\"dataframe\">\n",
              "  <thead>\n",
              "    <tr style=\"text-align: right;\">\n",
              "      <th></th>\n",
              "      <th>sepal_length</th>\n",
              "      <th>sepal_width</th>\n",
              "      <th>petal_length</th>\n",
              "      <th>petal_width</th>\n",
              "      <th>species</th>\n",
              "    </tr>\n",
              "  </thead>\n",
              "  <tbody>\n",
              "    <tr>\n",
              "      <th>0</th>\n",
              "      <td>5.1</td>\n",
              "      <td>3.5</td>\n",
              "      <td>1.4</td>\n",
              "      <td>0.2</td>\n",
              "      <td>setosa</td>\n",
              "    </tr>\n",
              "    <tr>\n",
              "      <th>1</th>\n",
              "      <td>4.9</td>\n",
              "      <td>3.0</td>\n",
              "      <td>1.4</td>\n",
              "      <td>0.2</td>\n",
              "      <td>setosa</td>\n",
              "    </tr>\n",
              "    <tr>\n",
              "      <th>2</th>\n",
              "      <td>4.7</td>\n",
              "      <td>3.2</td>\n",
              "      <td>1.3</td>\n",
              "      <td>0.2</td>\n",
              "      <td>setosa</td>\n",
              "    </tr>\n",
              "    <tr>\n",
              "      <th>3</th>\n",
              "      <td>4.6</td>\n",
              "      <td>3.1</td>\n",
              "      <td>1.5</td>\n",
              "      <td>0.2</td>\n",
              "      <td>setosa</td>\n",
              "    </tr>\n",
              "    <tr>\n",
              "      <th>4</th>\n",
              "      <td>5.0</td>\n",
              "      <td>3.6</td>\n",
              "      <td>1.4</td>\n",
              "      <td>0.2</td>\n",
              "      <td>setosa</td>\n",
              "    </tr>\n",
              "  </tbody>\n",
              "</table>\n",
              "</div>"
            ],
            "text/plain": [
              "   sepal_length  sepal_width  petal_length  petal_width species\n",
              "0           5.1          3.5           1.4          0.2  setosa\n",
              "1           4.9          3.0           1.4          0.2  setosa\n",
              "2           4.7          3.2           1.3          0.2  setosa\n",
              "3           4.6          3.1           1.5          0.2  setosa\n",
              "4           5.0          3.6           1.4          0.2  setosa"
            ]
          },
          "metadata": {
            "tags": []
          },
          "execution_count": 8
        }
      ]
    },
    {
      "cell_type": "markdown",
      "metadata": {
        "id": "Nt6KiqP10Gsk"
      },
      "source": [
        "Importing pickle file"
      ]
    },
    {
      "cell_type": "code",
      "metadata": {
        "id": "RdLOzasx-ulJ"
      },
      "source": [
        "import pickle\n",
        "dictionary={'Ali': 200, 'Steven': 150,'Yuganes':309}\n",
        "with open('/content/drive/MyDrive/Colab Notebooks/lab TC 6244/Lab 1 Module 1 to 4/data/dictpickle.pkl','wb') as f:\n",
        "  pickle.dump(dictionary,f)"
      ],
      "execution_count": null,
      "outputs": []
    },
    {
      "cell_type": "markdown",
      "metadata": {
        "id": "e_RRcvmo0ORc"
      },
      "source": [
        "**Deserializing pickle file**"
      ]
    },
    {
      "cell_type": "code",
      "metadata": {
        "colab": {
          "base_uri": "https://localhost:8080/"
        },
        "id": "aD7ZyfwZArPD",
        "outputId": "350d0789-815f-4613-bb3b-259c26f1b925"
      },
      "source": [
        "with open('/content/drive/MyDrive/Colab Notebooks/lab TC 6244/Lab 1 Module 1 to 4/data/dictpickle.pkl','rb')as f :\n",
        "  data = pickle.load(f)\n",
        "print(data)"
      ],
      "execution_count": null,
      "outputs": [
        {
          "output_type": "stream",
          "text": [
            "{'Ali': 200, 'Steven': 150, 'Yuganes': 309}\n"
          ],
          "name": "stdout"
        }
      ]
    }
  ]
}